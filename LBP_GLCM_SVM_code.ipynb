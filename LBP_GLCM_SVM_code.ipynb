{
 "cells": [
  {
   "cell_type": "code",
   "execution_count": null,
   "metadata": {},
   "outputs": [],
   "source": [
    "# pip install scikit-image\n",
    "# import skimage\n",
    "# import skimage\n",
    "# print(skimage.__version__)\n",
    "# pip install --upgrade scikit-image\n"
   ]
  },
  {
   "attachments": {},
   "cell_type": "markdown",
   "metadata": {},
   "source": [
    "import important modules"
   ]
  },
  {
   "cell_type": "code",
   "execution_count": null,
   "metadata": {},
   "outputs": [],
   "source": [
    "import pandas as pd\n",
    "import numpy as np\n",
    "import skimage\n",
    "from skimage.io import imread\n",
    "from skimage.color import rgb2gray\n",
    "from skimage.feature import local_binary_pattern\n",
    "# from skimage.feature import greycomatrix, greycoprops\n",
    "\n",
    "from sklearn.model_selection import train_test_split\n",
    "from sklearn.svm import SVC\n",
    "from sklearn.metrics import accuracy_score"
   ]
  },
  {
   "attachments": {},
   "cell_type": "markdown",
   "metadata": {},
   "source": [
    "Load dataset"
   ]
  },
  {
   "cell_type": "code",
   "execution_count": null,
   "metadata": {},
   "outputs": [],
   "source": [
    "df = pd.read_csv(r\"E:\\Desktop Content\\Project_IITB\\submission\\train_labels.csv\")"
   ]
  },
  {
   "cell_type": "code",
   "execution_count": null,
   "metadata": {},
   "outputs": [],
   "source": [
    "df.drop(['score'], axis=1, inplace=True)"
   ]
  },
  {
   "cell_type": "code",
   "execution_count": null,
   "metadata": {},
   "outputs": [],
   "source": [
    "df"
   ]
  },
  {
   "cell_type": "code",
   "execution_count": null,
   "metadata": {},
   "outputs": [],
   "source": [
    "df = df.rename(columns={\"has_oilpalm\": \"label\"})\n",
    "len(df)"
   ]
  },
  {
   "cell_type": "code",
   "execution_count": null,
   "metadata": {},
   "outputs": [],
   "source": [
    "for i in range(len(df)):\n",
    "    hold = df.iloc[i, 0]\n",
    "    hold = hold[0:-8] + hold[-4::]\n",
    "    df.iloc[i,0] = hold"
   ]
  },
  {
   "cell_type": "code",
   "execution_count": null,
   "metadata": {},
   "outputs": [],
   "source": [
    "df"
   ]
  },
  {
   "cell_type": "code",
   "execution_count": null,
   "metadata": {},
   "outputs": [],
   "source": [
    "df.drop(df.index[15057:], inplace=True)"
   ]
  },
  {
   "cell_type": "code",
   "execution_count": null,
   "metadata": {},
   "outputs": [],
   "source": [
    "df"
   ]
  },
  {
   "attachments": {},
   "cell_type": "markdown",
   "metadata": {},
   "source": [
    "import os moduel use to open directory where our dataset is present"
   ]
  },
  {
   "cell_type": "code",
   "execution_count": null,
   "metadata": {},
   "outputs": [],
   "source": [
    "import os\n",
    "available_imgs_lst = os.listdir(r\"E:\\Desktop Content\\Project_IITB\\submission\\train_images\")"
   ]
  },
  {
   "cell_type": "code",
   "execution_count": null,
   "metadata": {},
   "outputs": [],
   "source": [
    "df = df[df['image_id'].isin(available_imgs_lst)]\n",
    "df = df.drop_duplicates(subset='image_id')"
   ]
  },
  {
   "cell_type": "code",
   "execution_count": null,
   "metadata": {},
   "outputs": [],
   "source": [
    "df.reset_index(inplace=True)"
   ]
  },
  {
   "cell_type": "code",
   "execution_count": null,
   "metadata": {},
   "outputs": [],
   "source": [
    "df.drop(['index'], axis=1, inplace = True)"
   ]
  },
  {
   "cell_type": "code",
   "execution_count": null,
   "metadata": {},
   "outputs": [],
   "source": [
    "df.drop(['index'], axis=1, inplace = True)"
   ]
  },
  {
   "cell_type": "code",
   "execution_count": null,
   "metadata": {},
   "outputs": [],
   "source": [
    "import pickle\n",
    "import joblib\n",
    "import sklearn"
   ]
  },
  {
   "attachments": {},
   "cell_type": "markdown",
   "metadata": {},
   "source": [
    "find accuracy score at different distance by using svm classifier"
   ]
  },
  {
   "cell_type": "code",
   "execution_count": null,
   "metadata": {},
   "outputs": [],
   "source": [
    "# distance = 1\n",
    "# distance=1\n",
    "import os\n",
    "import numpy as np\n",
    "from skimage.io import imread\n",
    "from skimage.color import rgb2gray\n",
    "# from skimage.feature import local_binary_pattern, greycomatrix, greycoprops\n",
    "\n",
    "data = []\n",
    "\n",
    "# Iterate over each image in the dataframe\n",
    "for index, row in df.iterrows():\n",
    "    filename = os.path.join(r\"E:\\Desktop Content\\Project_IITB\\submission\\train_images\", row['image_id'])\n",
    "    img = imread(filename)\n",
    "    \n",
    "    # Convert image to grayscale\n",
    "    gray = rgb2gray(img)\n",
    "    \n",
    "    # Calculate LBP\n",
    "    radius = 1\n",
    "    n_points = 8 * radius\n",
    "    lbp = local_binary_pattern(gray, n_points, radius)\n",
    "    lbp = lbp / np.max(lbp)\n",
    "    gray_int = np.interp(lbp, (gray.min(), gray.max()), (0, 255)).astype(np.uint8)\n",
    "    \n",
    "    # Calculate GLCM\n",
    "    glcm = skimage.feature.graycomatrix(gray_int, distances=[1], angles=[0, np.pi/4, np.pi/2, 3*np.pi/4], levels=256, symmetric=True, normed=True)\n",
    "    \n",
    "    # Extract GLCM features\n",
    "    contrast = skimage.feature.graycoprops(glcm, 'contrast')\n",
    "    homogeneity = skimage.feature.graycoprops(glcm, 'homogeneity')\n",
    "    energy = skimage.feature.graycoprops(glcm, 'energy')\n",
    "    correlation = skimage.feature.graycoprops(glcm, 'correlation')\n",
    "    \n",
    "    # Concatenate the features into a single feature vector\n",
    "    glcm_features = np.concatenate((contrast.ravel(), homogeneity.ravel(), energy.ravel(), correlation.ravel()))\n",
    "    \n",
    "    # Append the feature vector to the data list\n",
    "    data.append(glcm_features)\n",
    "\n",
    "# Convert the list of feature vectors into a numpy array\n",
    "data = np.array(data)\n",
    "# time taken by this code to execute is 9 min 53.3 s\n",
    "\n"
   ]
  },
  {
   "cell_type": "code",
   "execution_count": null,
   "metadata": {},
   "outputs": [],
   "source": [
    "data"
   ]
  },
  {
   "cell_type": "code",
   "execution_count": null,
   "metadata": {},
   "outputs": [],
   "source": [
    "labels = df['label']\n",
    "\n",
    "# Convert the list of feature vectors into a NumPy array\n",
    "data = np.array(data)\n",
    "labels = np.array(labels)\n",
    "# Split the data into training and testing sets\n",
    "print(type(data))\n",
    "print(len(data))\n",
    "print(\"For Distance = 1\")\n",
    "print(type(labels))\n",
    "print(len(labels))\n",
    "X_train, X_test, y_train, y_test = train_test_split(data, labels, test_size=0.2, random_state=42)\n",
    "\n",
    "#X_train, X_test, y_train, y_test = train_test_split(0.2, 0.8, 42, data, labels)\n",
    "\n",
    "\n",
    "# Train an SVM classifier on the training data\n",
    "clf = SVC(kernel='linear')\n",
    "clf.fit(X_train, y_train)\n",
    "\n",
    "#Saving the weights\n",
    "with open('model_pickle_11', 'wb') as f:\n",
    "  pickle.dump(clf,f)\n",
    "\n",
    "joblib.dump(clf, \"model_joblib_11.pkl\")\n",
    "\n",
    "scikit_ver = sklearn.__version__\n",
    "joblib.dump(clf, \"model_{version}.pk1\".format(version = scikit_ver))\n",
    "\n",
    "# Use the trained classifier to predict labels for the testing data\n",
    "y_pred = clf.predict(X_test)\n",
    "\n",
    "\n",
    "# Calculate the accuracy of the classifier\n",
    "accuracy = accuracy_score(y_test, y_pred)\n",
    "print(f\"Accuracy: {accuracy}\")"
   ]
  },
  {
   "cell_type": "code",
   "execution_count": null,
   "metadata": {},
   "outputs": [],
   "source": [
    "# load and preprocess new image\n",
    "image = imread(r\"E:\\Desktop Content\\Project_IITB\\submission\\img_00109.jpg\")\n",
    "gray = rgb2gray(image)\n",
    "\n",
    "radius = 1\n",
    "n_points = 8 * radius\n",
    "lbp = local_binary_pattern(gray, n_points, radius)\n",
    "\n",
    "# Normalize the LBP image to the range [0, 1]\n",
    "lbp = lbp / np.max(lbp)\n",
    "gray_int = np.interp(lbp, (gray.min(), gray.max()), (0, 255)).astype(np.uint8)\n",
    "\n",
    "#Calculating the GLCM\n",
    "glcm = skimage.feature.graycomatrix(gray_int, distances=[1], angles=[0, np.pi/4, np.pi/2, 3*np.pi/4], levels=256, symmetric=True, normed=True)\n",
    "\n",
    "# Extract GLCM features from the matrix\n",
    "contrast = skimage.feature.graycoprops(glcm, 'contrast')\n",
    "homogeneity = skimage.feature.graycoprops(glcm, 'homogeneity')\n",
    "energy = skimage.feature.graycoprops(glcm, 'energy')\n",
    "correlation = skimage.feature.graycoprops(glcm, 'correlation')\n",
    "\n",
    "# Concatenate the features into a single feature vector\n",
    "obs = np.concatenate((contrast.ravel(), homogeneity.ravel(), energy.ravel(), correlation.ravel()))"
   ]
  },
  {
   "cell_type": "code",
   "execution_count": null,
   "metadata": {},
   "outputs": [],
   "source": [
    "# The trained classifier is saved to a file using both pickle and joblib modules.#\n",
    "import pickle\n",
    "with open(r\"E:\\Desktop Content\\Project_IITB\\submission\\model_pickle_1 - Copy\", 'rb') as f:\n",
    "  mod = pickle.load(f)"
   ]
  },
  {
   "cell_type": "code",
   "execution_count": null,
   "metadata": {},
   "outputs": [],
   "source": [
    "# The classifier is used to predict labels for the testing data using predict.\n",
    "\n",
    "mod.predict([obs])"
   ]
  },
  {
   "cell_type": "code",
   "execution_count": null,
   "metadata": {},
   "outputs": [],
   "source": [
    "print(obs)"
   ]
  },
  {
   "cell_type": "code",
   "execution_count": null,
   "metadata": {},
   "outputs": [],
   "source": [
    "print(obs[1])"
   ]
  },
  {
   "cell_type": "code",
   "execution_count": null,
   "metadata": {},
   "outputs": [],
   "source": [
    "import joblib\n",
    "\n",
    "classifier = joblib.load(r\"E:\\Desktop Content\\Project_IITB\\submission\\model_pickle_11\")\n",
    "# classifier=joblib.load(r\"E:\\Desktop Content\\Project_IITB\\submission\\model_pickle_1 - Copy\")\n",
    "classifier.predict([obs])"
   ]
  },
  {
   "cell_type": "code",
   "execution_count": null,
   "metadata": {},
   "outputs": [],
   "source": [
    "# The saved classifier is loaded using joblib.load.\n",
    "\n",
    "classifier_ver = joblib.load(r\"E:\\Desktop Content\\Project_IITB\\submission\\model_pickle_11\")\n",
    "classifier_ver.predict([obs])"
   ]
  },
  {
   "cell_type": "code",
   "execution_count": null,
   "metadata": {},
   "outputs": [],
   "source": [
    "acc_1 = 0.9468623481781376\n",
    "acc_dist.append(acc_1)"
   ]
  },
  {
   "cell_type": "code",
   "execution_count": null,
   "metadata": {},
   "outputs": [],
   "source": [
    "\n",
    "# distance=2\n",
    "data = []\n",
    "for i in range(len(df)):\n",
    "    filename = os.path.join(\"train_images\", str(df.iloc[i, 0]))\n",
    "    img = imread(filename)\n",
    "    gray = rgb2gray(img)\n",
    "    \n",
    "    # Convert the gray image to integer data type\n",
    "    gray_int = (gray * 255).astype(np.uint8)\n",
    "    \n",
    "    radius = 1\n",
    "    n_points = 8 * radius\n",
    "    lbp = local_binary_pattern(gray_int, n_points, radius)\n",
    "\n",
    "    # Normalize the LBP image to the range [0, 1]\n",
    "    lbp = lbp / np.max(lbp)\n",
    "\n",
    "    # Calculating the GLCM\n",
    "    glcm = skimage.feature.graycomatrix(gray_int, distances=[2], angles=[0, np.pi/4, np.pi/2, 3*np.pi/4], levels=256, symmetric=True, normed=True)\n",
    "\n",
    "    # Extract GLCM features from the matrix\n",
    "    contrast = skimage.feature.graycoprops(glcm, 'contrast')\n",
    "    homogeneity = skimage.feature.graycoprops(glcm, 'homogeneity')\n",
    "    energy = skimage.feature.graycoprops(glcm, 'energy')\n",
    "    correlation = skimage.feature.graycoprops(glcm, 'correlation')\n",
    "\n",
    "    # Concatenate the features into a single feature vector\n",
    "    glcm_features = np.concatenate((contrast.ravel(), homogeneity.ravel(), energy.ravel(), correlation.ravel()))\n",
    "        \n",
    "    data.append(glcm_features)\n"
   ]
  },
  {
   "cell_type": "code",
   "execution_count": null,
   "metadata": {},
   "outputs": [],
   "source": [
    "labels = df['label']\n",
    "\n",
    "# Convert the list of feature vectors into a NumPy array\n",
    "data = np.array(data)\n",
    "labels = np.array(labels)\n",
    "# Split the data into training and testing sets\n",
    "print(type(data))\n",
    "print(len(data))\n",
    "print(\"For Distance = 2\")\n",
    "print(type(labels))\n",
    "print(len(labels))\n",
    "X_train, X_test, y_train, y_test = train_test_split(data, labels, test_size=0.2, random_state=42)\n",
    "\n",
    "#X_train, X_test, y_train, y_test = train_test_split(0.2, 0.8, 42, data, labels)\n",
    "\n",
    "\n",
    "# Train an SVM classifier on the training data\n",
    "clf = SVC(kernel='linear')\n",
    "clf.fit(X_train, y_train)\n",
    "\n",
    "#Saving the weights\n",
    "with open('model_pickle_12', 'wb') as f:\n",
    "  pickle.dump(clf,f)\n",
    "\n",
    "joblib.dump(clf, \"model_joblib_12.pkl\")\n",
    "\n",
    "scikit_ver = sklearn.__version__\n",
    "joblib.dump(clf, \"model_{version}_dist2.pkl\".format(version = scikit_ver))\n",
    "\n",
    "# Use the trained classifier to predict labels for the testing data\n",
    "y_pred = clf.predict(X_test)\n",
    "\n",
    "# Use the trained classifier to predict labels for the testing data\n",
    "y_pred = clf.predict(X_test)\n",
    "\n",
    "# Calculate the accuracy of the classifier\n",
    "accuracy = accuracy_score(y_test, y_pred)\n",
    "print(f\"Accuracy: {accuracy}\")\n"
   ]
  },
  {
   "cell_type": "code",
   "execution_count": null,
   "metadata": {},
   "outputs": [],
   "source": [
    "# extract features for one sample\n",
    "image = imread(r\"E:\\Desktop Content\\Project_IITB\\submission\\img_00109.jpg\")\n",
    "gray = rgb2gray(image)\n",
    "\n",
    "# Convert the gray image to integer data type\n",
    "gray_int = (gray * 255).astype(np.uint8)\n",
    "\n",
    "radius = 1\n",
    "n_points = 8 * radius\n",
    "lbp = local_binary_pattern(gray_int, n_points, radius)\n",
    "\n",
    "# Normalize the LBP image to the range [0, 1]\n",
    "lbp = lbp / np.max(lbp)\n",
    "\n",
    "# Calculating the GLCM\n",
    "glcm = skimage.feature.graycomatrix(gray_int, distances=[2], angles=[0, np.pi/4, np.pi/2, 3*np.pi/4], levels=256, symmetric=True, normed=True)\n",
    "\n",
    "# Extract GLCM features from the matrix\n",
    "contrast = skimage.feature.graycoprops(glcm, 'contrast')\n",
    "homogeneity = skimage.feature.graycoprops(glcm, 'homogeneity')\n",
    "energy = skimage.feature.graycoprops(glcm, 'energy')\n",
    "correlation = skimage.feature.graycoprops(glcm, 'correlation')\n",
    "\n",
    "# Concatenate the features into a single feature vector\n",
    "glcm_features = np.concatenate((contrast.ravel(), homogeneity.ravel(), energy.ravel(), correlation.ravel()))\n",
    "\n",
    "# Append the feature vector to the data list\n",
    "data.append(glcm_features)\n"
   ]
  },
  {
   "cell_type": "code",
   "execution_count": null,
   "metadata": {},
   "outputs": [],
   "source": [
    "with open('model_pickle_12', 'rb') as f:\n",
    "  mod = pickle.load(f)"
   ]
  },
  {
   "cell_type": "code",
   "execution_count": null,
   "metadata": {},
   "outputs": [],
   "source": [
    "mod.predict([obs])"
   ]
  },
  {
   "cell_type": "code",
   "execution_count": null,
   "metadata": {},
   "outputs": [],
   "source": [
    "classifier = joblib.load('model_joblib_12.pkl')\n",
    "classifier.predict([obs])"
   ]
  },
  {
   "cell_type": "code",
   "execution_count": null,
   "metadata": {},
   "outputs": [],
   "source": [
    "acc_2 = 0.9453441295546559\n",
    "acc_dist.append(acc_2)\n"
   ]
  },
  {
   "cell_type": "code",
   "execution_count": null,
   "metadata": {},
   "outputs": [],
   "source": [
    "# distance=4\n",
    "data = []\n",
    "for i in range(len(df)):\n",
    "    filename = os.path.join(\"train_images\", str(df.iloc[i, 0]))\n",
    "    img = imread(filename)\n",
    "    \n",
    "    # Convert the image to grayscale\n",
    "    gray = rgb2gray(img)\n",
    "    \n",
    "    # Convert the gray image to integer data type\n",
    "    gray_int = (gray * 255).astype(np.uint8)\n",
    "    \n",
    "    radius = 1\n",
    "    n_points = 8 * radius\n",
    "    \n",
    "    # Calculate LBP\n",
    "    lbp = local_binary_pattern(gray_int, n_points, radius, method='uniform')\n",
    "    \n",
    "    # Normalize the LBP image to the range [0, 1]\n",
    "    lbp = lbp / np.max(lbp)\n",
    "    \n",
    "    # Calculate GLCM\n",
    "    glcm = skimage.feature.graycomatrix(gray_int, distances=[4], angles=[0, np.pi/4, np.pi/2, 3*np.pi/4], levels=256, symmetric=True, normed=True)\n",
    "    \n",
    "    # Extract GLCM features from the matrix\n",
    "    contrast = skimage.feature.graycoprops(glcm, 'contrast')\n",
    "    homogeneity = skimage.feature.graycoprops(glcm, 'homogeneity')\n",
    "    energy = skimage.feature.graycoprops(glcm, 'energy')\n",
    "    correlation = skimage.feature.graycoprops(glcm, 'correlation')\n",
    "    \n",
    "    # Concatenate the features into a single feature vector\n",
    "    glcm_features = np.concatenate((contrast.ravel(), homogeneity.ravel(), energy.ravel(), correlation.ravel()))\n",
    "        \n",
    "    data.append(glcm_features)\n"
   ]
  },
  {
   "cell_type": "code",
   "execution_count": null,
   "metadata": {},
   "outputs": [],
   "source": [
    "labels = df['label']\n",
    "\n",
    "# Convert the list of feature vectors into a NumPy array\n",
    "data = np.array(data)\n",
    "labels = np.array(labels)\n",
    "# Split the data into training and testing sets\n",
    "print(type(data))\n",
    "print(len(data))\n",
    "print(\"For Distance = 4\")\n",
    "print(type(labels))\n",
    "print(len(labels))\n",
    "X_train, X_test, y_train, y_test = train_test_split(data, labels, test_size=0.2, random_state=42)\n",
    "\n",
    "#X_train, X_test, y_train, y_test = train_test_split(0.2, 0.8, 42, data, labels)\n",
    "\n",
    "\n",
    "# Train an SVM classifier on the training data\n",
    "clf = SVC(kernel='linear')\n",
    "clf.fit(X_train, y_train)\n",
    "\n",
    "#Saving the weights\n",
    "with open('model_pickle_13', 'wb') as f:\n",
    "  pickle.dump(clf,f)\n",
    "\n",
    "joblib.dump(clf, \"model_joblib_13.pkl\")\n",
    "\n",
    "scikit_ver = sklearn.__version__\n",
    "joblib.dump(clf, \"model_{version}_dist4.pkl\".format(version = scikit_ver))\n",
    "\n",
    "\n",
    "# Use the trained classifier to predict labels for the testing data\n",
    "y_pred = clf.predict(X_test)\n",
    "\n",
    "# Calculate the accuracy of the classifier\n",
    "accuracy = accuracy_score(y_test, y_pred)\n",
    "print(f\"Accuracy (dist = 4): {accuracy}\")"
   ]
  },
  {
   "cell_type": "code",
   "execution_count": null,
   "metadata": {},
   "outputs": [],
   "source": [
    "image = imread(r\"E:\\Desktop Content\\Project_IITB\\submission\\img_00109.jpg\")\n",
    "gray = rgb2gray(image)\n",
    "\n",
    "radius = 1\n",
    "n_points = 8 * radius\n",
    "lbp = local_binary_pattern(gray, n_points, radius)\n",
    "\n",
    "# Normalize the LBP image to the range [0, 1]\n",
    "lbp = lbp / np.max(lbp)\n",
    "gray_int = np.interp(lbp, (gray.min(), gray.max()), (0, 255)).astype(np.uint8)\n",
    "\n",
    "#Calculating the GLCM\n",
    "glcm = skimage.feature.graycomatrix(gray_int, distances=[4], angles=[0, np.pi/4, np.pi/2, 3*np.pi/4], levels=256, symmetric=True, normed=True)\n",
    "\n",
    "# Extract GLCM features from the matrix\n",
    "contrast = skimage.feature.graycoprops(glcm, 'contrast')\n",
    "homogeneity = skimage.feature.graycoprops(glcm, 'homogeneity')\n",
    "energy = skimage.feature.graycoprops(glcm, 'energy')\n",
    "correlation = skimage.feature.graycoprops(glcm, 'correlation')\n",
    "\n",
    "# Concatenate the features into a single feature vector\n",
    "obs = np.concatenate((contrast.ravel(), homogeneity.ravel(), energy.ravel(), correlation.ravel()))"
   ]
  },
  {
   "cell_type": "code",
   "execution_count": null,
   "metadata": {},
   "outputs": [],
   "source": [
    "with open('model_pickle_13', 'rb') as f:\n",
    "  mod = pickle.load(f)"
   ]
  },
  {
   "cell_type": "code",
   "execution_count": null,
   "metadata": {},
   "outputs": [],
   "source": [
    "mod.predict([obs])"
   ]
  },
  {
   "cell_type": "code",
   "execution_count": null,
   "metadata": {},
   "outputs": [],
   "source": [
    "print(obs[0])\n"
   ]
  },
  {
   "cell_type": "code",
   "execution_count": null,
   "metadata": {},
   "outputs": [],
   "source": [
    "classifier = joblib.load('model_joblib_13.pkl')\n",
    "classifier.predict([obs])"
   ]
  },
  {
   "cell_type": "code",
   "execution_count": null,
   "metadata": {},
   "outputs": [],
   "source": [
    "acc_4 = 0.9473684210526315\n",
    "acc_dist.append(acc_4)"
   ]
  },
  {
   "cell_type": "code",
   "execution_count": null,
   "metadata": {},
   "outputs": [],
   "source": [
    "# distance=8\n",
    "data = []\n",
    "for i in range(len(df)):\n",
    "    filename = os.path.join(\"train_images\", str(df.iloc[i, 0]))\n",
    "    img = imread(filename)\n",
    "    \n",
    "    # Convert the image to grayscale\n",
    "    gray = rgb2gray(img)\n",
    "    \n",
    "    # Convert the gray image to integer data type\n",
    "    gray_int = (gray * 255).astype(np.uint8)\n",
    "    \n",
    "    radius = 1\n",
    "    n_points = 8 * radius\n",
    "    \n",
    "    # Calculate LBP\n",
    "    lbp = local_binary_pattern(gray_int, n_points, radius, method='uniform')\n",
    "    \n",
    "    # Normalize the LBP image to the range [0, 1]\n",
    "    lbp = lbp / np.max(lbp)\n",
    "    \n",
    "    # Calculate GLCM\n",
    "    glcm = skimage.feature.graycomatrix(gray_int, distances=[8], angles=[0, np.pi/4, np.pi/2, 3*np.pi/4], levels=256, symmetric=True, normed=True)\n",
    "    \n",
    "    # Extract GLCM features from the matrix\n",
    "    contrast = skimage.feature.graycoprops(glcm, 'contrast')\n",
    "    homogeneity = skimage.feature.graycoprops(glcm, 'homogeneity')\n",
    "    energy = skimage.feature.graycoprops(glcm, 'energy')\n",
    "    correlation = skimage.feature.graycoprops(glcm, 'correlation')\n",
    "    \n",
    "    # Concatenate the features into a single feature vector\n",
    "    glcm_features = np.concatenate((contrast.ravel(), homogeneity.ravel(), energy.ravel(), correlation.ravel()))\n",
    "        \n",
    "    data.append(glcm_features)\n"
   ]
  },
  {
   "cell_type": "code",
   "execution_count": null,
   "metadata": {},
   "outputs": [],
   "source": [
    "labels = df['label']\n",
    "\n",
    "# Convert the list of feature vectors into a NumPy array\n",
    "data = np.array(data)\n",
    "labels = np.array(labels)\n",
    "# Split the data into training and testing sets\n",
    "print(type(data))\n",
    "print(len(data))\n",
    "print(\"For Distance = 8\")\n",
    "print(type(labels))\n",
    "print(len(labels))\n",
    "X_train, X_test, y_train, y_test = train_test_split(data, labels, test_size=0.2, random_state=42)\n",
    "\n",
    "#X_train, X_test, y_train, y_test = train_test_split(0.2, 0.8, 42, data, labels)\n",
    "\n",
    "\n",
    "# Train an SVM classifier on the training data\n",
    "clf = SVC(kernel='linear')\n",
    "clf.fit(X_train, y_train)\n",
    "\n",
    "#Saving the weights\n",
    "with open('model_pickle_14', 'wb') as f:\n",
    "  pickle.dump(clf,f)\n",
    "\n",
    "joblib.dump(clf, \"model_joblib_14.pkl\")\n",
    "\n",
    "scikit_ver = sklearn.__version__\n",
    "joblib.dump(clf, \"model_{version}_dist8.pkl\".format(version = scikit_ver))\n",
    "\n",
    "\n",
    "# Use the trained classifier to predict labels for the testing data\n",
    "y_pred = clf.predict(X_test)\n",
    "\n",
    "# Calculate the accuracy of the classifier\n",
    "accuracy = accuracy_score(y_test, y_pred)\n",
    "print(f\"Accuracy (dist = 8): {accuracy}\")"
   ]
  },
  {
   "cell_type": "code",
   "execution_count": null,
   "metadata": {},
   "outputs": [],
   "source": [
    "image = imread(r\"E:\\Desktop Content\\Project_IITB\\submission\\img_00109.jpg\")\n",
    "gray = rgb2gray(image)\n",
    "\n",
    "radius = 1\n",
    "n_points = 8 * radius\n",
    "lbp = local_binary_pattern(gray, n_points, radius)\n",
    "\n",
    "# Normalize the LBP image to the range [0, 1]\n",
    "lbp = lbp / np.max(lbp)\n",
    "gray_int = np.interp(lbp, (gray.min(), gray.max()), (0, 255)).astype(np.uint8)\n",
    "\n",
    "#Calculating the GLCM\n",
    "glcm = skimage.feature.graycomatrix(gray_int, distances=[8], angles=[0, np.pi/4, np.pi/2, 3*np.pi/4], levels=256, symmetric=True, normed=True)\n",
    "\n",
    "# Extract GLCM features from the matrix\n",
    "contrast = skimage.feature.graycoprops(glcm, 'contrast')\n",
    "homogeneity = skimage.feature.graycoprops(glcm, 'homogeneity')\n",
    "energy = skimage.feature.graycoprops(glcm, 'energy')\n",
    "correlation = skimage.feature.graycoprops(glcm, 'correlation')\n",
    "\n",
    "# Concatenate the features into a single feature vector\n",
    "obs = np.concatenate((contrast.ravel(), homogeneity.ravel(), energy.ravel(), correlation.ravel()))"
   ]
  },
  {
   "cell_type": "code",
   "execution_count": null,
   "metadata": {},
   "outputs": [],
   "source": [
    "with open('model_pickle_14', 'rb') as f:\n",
    "  mod = pickle.load(f)"
   ]
  },
  {
   "cell_type": "code",
   "execution_count": null,
   "metadata": {},
   "outputs": [],
   "source": [
    "mod.predict([obs])"
   ]
  },
  {
   "cell_type": "code",
   "execution_count": null,
   "metadata": {},
   "outputs": [],
   "source": [
    "classifier = joblib.load('model_joblib_14.pkl')\n",
    "classifier.predict([obs])"
   ]
  },
  {
   "cell_type": "code",
   "execution_count": null,
   "metadata": {},
   "outputs": [],
   "source": [
    "acc_8 = 0.9438259109311741\n",
    "acc_dist.append(acc_8)"
   ]
  },
  {
   "cell_type": "code",
   "execution_count": null,
   "metadata": {},
   "outputs": [],
   "source": [
    "print(acc_dist)"
   ]
  },
  {
   "attachments": {},
   "cell_type": "markdown",
   "metadata": {},
   "source": [
    "# visual analysis"
   ]
  },
  {
   "cell_type": "code",
   "execution_count": null,
   "metadata": {},
   "outputs": [],
   "source": [
    "import seaborn as sns\n",
    "import matplotlib.pyplot as plt\n",
    "\n",
    "# Example data\n",
    "distance = [1, 2, 4, 8]\n",
    "acc_dist = [0.85, 0.92, 0.95, 0.97]\n",
    "\n",
    "# Create scatter plot\n",
    "sns.set_theme()\n",
    "plt.figure(figsize=(8, 6))  # Adjust the figure size if needed\n",
    "sns.scatterplot(x=distance, y=acc_dist, sizes=(20, 200), color='red')\n",
    "\n",
    "# Add labels and title\n",
    "plt.xlabel('Distance')\n",
    "plt.ylabel('Accuracy')\n",
    "plt.title('Accuracy vs. Distance')\n",
    "\n",
    "# Display the plot\n",
    "plt.show()\n"
   ]
  },
  {
   "cell_type": "code",
   "execution_count": null,
   "metadata": {},
   "outputs": [],
   "source": [
    "sns.set_theme()\n",
    "sns.lineplot(\n",
    "    x=distance, y=acc_dist, sizes=(20, 200))"
   ]
  },
  {
   "cell_type": "code",
   "execution_count": null,
   "metadata": {},
   "outputs": [],
   "source": [
    "sns.set_context(\"poster\")\n",
    "sns.set_theme()\n",
    "sns.lineplot(\n",
    "    x=distance, y=acc_dist, sizes=(20, 200))"
   ]
  },
  {
   "cell_type": "code",
   "execution_count": null,
   "metadata": {},
   "outputs": [],
   "source": [
    "import numpy as np\n",
    "import matplotlib.pyplot as plt\n",
    "from scipy.interpolate import make_interp_spline\n",
    "x = np.array(distance)\n",
    "y = np.array(acc_dist)\n",
    "  \n",
    "xnew = np.linspace(x.min(), x.max(), 300)\n",
    "  \n",
    "gfg = make_interp_spline(x, y, k=3)\n",
    "  \n",
    "y_new = gfg(xnew)\n",
    "  \n",
    "plt.plot(xnew, y_new, color = 'chartreuse')\n",
    "plt.plot(x, y, color = 'blue')\n",
    "plt.scatter(x, y, color = 'black')\n",
    "plt.xlabel(\"Distance\")\n",
    "plt.ylabel(\" Classification Accuracy\")\n",
    "plt.show()"
   ]
  },
  {
   "cell_type": "code",
   "execution_count": null,
   "metadata": {},
   "outputs": [],
   "source": [
    "import numpy as np\n",
    "import matplotlib.pyplot as plt\n",
    "from scipy.interpolate import make_interp_spline\n",
    "x = np.array(distance)\n",
    "y = np.array(acc_dist)\n",
    "  \n",
    "xnew = np.linspace(x.min(), x.max(), 300)\n",
    "  \n",
    "gfg = make_interp_spline(x, y, k=3)\n",
    "  \n",
    "y_new = gfg(xnew)\n",
    "  \n",
    "plt.plot(xnew, y_new, color = 'chartreuse', linestyle = 'dotted')\n",
    "plt.plot(x, y, color = 'blue')\n",
    "plt.scatter(x, y, color = 'black')\n",
    "plt.xlabel(\"Distance\")\n",
    "plt.ylabel(\" Classification Accuracy\")\n",
    "plt.show()"
   ]
  },
  {
   "cell_type": "code",
   "execution_count": null,
   "metadata": {},
   "outputs": [],
   "source": [
    "plt.scatter(x, y, color = 'black')\n",
    "plt.plot(xnew, y_new, color = 'chartreuse')\n",
    "\n",
    "plt.xlabel(\"Distance\")\n",
    "plt.ylabel(\" Classification Accuracy\")\n",
    "plt.show()"
   ]
  },
  {
   "cell_type": "code",
   "execution_count": null,
   "metadata": {},
   "outputs": [],
   "source": [
    "plt.scatter(x, y, color = 'black')\n",
    "plt.plot(x, y, color = 'blue')\n",
    "plt.xlabel(\"Distance\")\n",
    "plt.ylabel(\" Classification Accuracy\")\n",
    "plt.show()"
   ]
  }
 ],
 "metadata": {
  "language_info": {
   "name": "python"
  },
  "orig_nbformat": 4
 },
 "nbformat": 4,
 "nbformat_minor": 2
}
